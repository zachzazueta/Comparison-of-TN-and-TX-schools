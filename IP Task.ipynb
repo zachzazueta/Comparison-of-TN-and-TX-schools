{
 "cells": [
  {
   "cell_type": "markdown",
   "metadata": {},
   "source": [
    "# Task for IP\n",
    "\n",
    "## Overview\n",
    "\n",
    "The task at hand is to evaluate the impact of YOY change in school size to performance on state tests for schools in Tennessee and Texas.\n",
    "\n",
    "### Approach\n",
    "Data is pulled from public data sources here (https://www.tn.gov/education/data/data-downloads.html) and here (https://tea.texas.gov/texas-schools/accountability/academic-accountability/performance-reporting/texas-academic-performance-reports). Data was pulled for the 3 most recent, complete school years; given the interruptions that COVID had on the 2019-2020 school year, those data were incomplete, so I pulled information from the 2016-17, 2017-18, and 2018-19 school years.\n",
    "\n",
    "For TN - I selected state Accountability records and the Enrollment data. From the Accountability data, I selected information about performance for key subjects (ELA, Math, Social Studies, HS English, HS Math, and HS History), specifically the percent of students at each school who were on target or mastering the subject. From Enrollment data, I selected information specifically on total school population, ignoring more nuanced data about student demographic breakdowns for this analysis. This decision was made primarily due to the lack of 1:1 ethnic/race groups available for the Accountability data.\n",
    "\n",
    "For TX - I selected Campus level data and first extracted the Accountability reports. These reports also linked to a separate table with a glossary of table column translations - I copy and pasted these into excel files and saved those to the working folder. The Accountability reports included information about total enrollment for the school year at each campus. I then selected Academic performance data, primarily data about percentage of students meeting expectation rates on the STAAR assesments. I selected data rolled up for all subject by campus, but would link in mulitple sources to break performance out across subjects if I went deeper on this analysis.\n",
    "\n",
    "After combining enrollment data, I calculated a Year-over-Year rate of change for each campus to standardize growth. Another approach that was considered would be to simply calculate the change in the actual number of seats in each school, but for the sake of this exercise, I chose to work with proportional change.\n",
    "\n",
    "To measure change in academic proficiency, I simply took the difference between percent of students 'on target/mastered' from the current year from the previous. Academic and enrollment data were combined - for TN, I was able to combine the change in campus size with performance on a number of subjects for each campus. For TX - I combined the performance rate on all tests with the rate of change in campus size.\n",
    "\n",
    "Outlier data were removed. Rows with Null values or place holder values in place of critical information were dropped.\n",
    "\n",
    "### Analysis\n",
    "My thought to use rate of change in size allowed for a lagged outcome to present itself. The delta between Year 1 and Year 2 would present itself in Year 2 test scores, as the impact of the addition or loss of students was absorbed by the campus.\n",
    "\n",
    "Because we were curious about how the change in size impacted performance, I used the mean of growth rate as a point to split my academic performance into groups (proficiency at campuses experiencing above/below average).\n",
    "\n",
    "Once the populations were split, I conducted a Levene test to test whether variance of the populations were equal. If variance were equal, I conducted independent Students t-test; if they did not have equal variance, I substituted Welch's t-test.\n",
    "\n",
    "With the t-test, I was testing the following null hypothesis:\n",
    "\n",
    "H0: Mean(group1) = Mean(group2)  \n",
    "H1: Mean(group1) != Mean(group2)\n",
    "\n",
    "If I uncovered a p-value < 0.05 (my alpha level of significance), I had enough evidence to reject the null hypothesis, allowing me to conclude there was a statistically significant difference in group means, where the groups were split by the rate of change in school population size (and by test subject in the case of TN data).\n",
    "\n",
    "### Findings\n",
    "In TN, performance in HS English and ELA showed statistically significant differences in the change in student performance levels as a result of school growth.\n",
    "\n",
    "In TX, campuses that shrank (those with negative growth rates) saw greater gains in proficiency levels than those campuses that grew over the same time period.\n",
    "\n",
    "### Challenges\n",
    "- General - time consuming to have to work across tables that did not have standarized headings added an extra step to determine the information that was at hand.\n",
    "- TN - tried to disaggregate too much - needed to keep all data at all students because there was no performance data split in the same demographic groups as the Academic performance data.\n",
    "- TX - assessment design changes (led to ommision of 16-17 data), initial confusion on the reverse cumulative structure of Approaching, Meets, Mastered performance breakouts for Academic data."
   ]
  },
  {
   "cell_type": "markdown",
   "metadata": {},
   "source": [
    "### Libraries"
   ]
  },
  {
   "cell_type": "code",
   "execution_count": 1,
   "metadata": {},
   "outputs": [],
   "source": [
    "import pandas as pd\n",
    "import numpy as np\n",
    "import matplotlib.pyplot as plt\n",
    "%matplotlib inline\n",
    "import seaborn as sns\n",
    "\n",
    "from scipy.stats import ttest_ind, levene\n",
    "\n",
    "import warnings\n",
    "warnings.filterwarnings('ignore')"
   ]
  },
  {
   "cell_type": "markdown",
   "metadata": {},
   "source": [
    "### Data Load\n",
    "#### Tennessee"
   ]
  },
  {
   "cell_type": "code",
   "execution_count": 2,
   "metadata": {},
   "outputs": [],
   "source": [
    "xls = pd.ExcelFile('TN_15_16_Enrollment.xlsx')\n",
    "TN1516Enrl = pd.read_excel(xls, '2015-2016 Membership File')\n",
    "\n",
    "TN1617Acct = pd.read_excel('TN_16_17_Accountability.xlsx')\n",
    "xls = pd.ExcelFile('TN_16_17_Enrollment.xlsx')\n",
    "TN1617Enrl = pd.read_excel(xls, '2016-2017 Membership File')\n",
    "\n",
    "TN1718Acct = pd.read_excel('TN_17_18_Accountability.xlsx')\n",
    "TN1718Enrl = pd.read_excel('TN_17_18_Enrollment.xlsx')\n",
    "\n",
    "TN1819Acct = pd.read_excel('TN_18_19_Accountability.xlsx')\n",
    "TN1819Enrl = pd.read_excel('TN_18_19_Enrollment.xlsx')"
   ]
  },
  {
   "cell_type": "markdown",
   "metadata": {},
   "source": [
    "#### Texas"
   ]
  },
  {
   "cell_type": "code",
   "execution_count": 3,
   "metadata": {},
   "outputs": [],
   "source": [
    "#Load in all data for TX - first the enrollment data and table keys\n",
    "TX1617 = pd.read_excel('TX_16_17_FullData.xlsx')\n",
    "TX1718 = pd.read_excel('TX_17_18_FullData.xlsx')\n",
    "TX1819 = pd.read_excel('TX_18_19_FullData.xlsx')\n",
    "TX1617Key = pd.read_excel('TX17Key.xlsx')\n",
    "TX1718Key = pd.read_excel('TX18Key.xlsx')\n",
    "TX1819Key = pd.read_excel('TX19Key.xlsx')\n",
    "\n",
    "#Then the academic data with the table keys\n",
    "TX1617Aca = pd.read_excel('TX_16_17_Academic.xlsx')\n",
    "TX1718Aca = pd.read_excel('TX_17_18_Academic.xlsx')\n",
    "TX1819Aca = pd.read_excel('TX_18_19_Academic.xlsx')\n",
    "TX1617AcaKey = pd.read_excel('TX_16_17_Academic_Key.xlsx')\n",
    "TX1718AcaKey = pd.read_excel('TX_17_18_Academic_Key.xlsx')\n",
    "TX1819AcaKey = pd.read_excel('TX_18_19_Academic_Key.xlsx')"
   ]
  },
  {
   "cell_type": "markdown",
   "metadata": {},
   "source": [
    "### Data Prep"
   ]
  },
  {
   "cell_type": "markdown",
   "metadata": {},
   "source": [
    "As we see below, there is no common race/ethnicity to join across the tables - the best that could be done would be a combination of Enrollment Race to match the Black/Hispanic/Native American Accountability subgroup; I won't be doing that during this exercise."
   ]
  },
  {
   "cell_type": "code",
   "execution_count": 4,
   "metadata": {},
   "outputs": [
    {
     "name": "stdout",
     "output_type": "stream",
     "text": [
      "['All Race/Ethnic Groups', 'Native Hawaiian or Other Pacific Islander', 'Hispanic or Latino ethnicity', 'Black or African American', 'American Indian or Alaskan Native', 'White', 'Two or more races', 'Asian']\n",
      "['All Students', 'Super Subgroup', 'Economically Disadvantaged', 'Black/Hispanic/Native American', 'Students with Disabilities', 'English Learners']\n"
     ]
    }
   ],
   "source": [
    "#This is a check to see if it is possible to combine Enrollment and Accademic achievement \n",
    "#data in a meaningful way at a disaggregated level (there is not)\n",
    "print(list(set(TN1617Enrl.RACE)))\n",
    "\n",
    "print(list(set(TN1617Acct.subgroup)))"
   ]
  },
  {
   "cell_type": "markdown",
   "metadata": {},
   "source": [
    "Below, I inspect the total number of schools present in the data sets for each given year/data cut."
   ]
  },
  {
   "cell_type": "code",
   "execution_count": 5,
   "metadata": {},
   "outputs": [],
   "source": [
    "#Do some renaming of columns of the Enrollment data for ease of use\n",
    "TN1516Enrl = TN1516Enrl.rename(columns={'DISTRICT_ID': 'DISTRICT', 'DISTRICT_NAME': 'DISTRICT NAME', \n",
    "                                        'SCHOOL_ID': 'SCHOOL', 'SCHOOL_NAME': 'SCHOOL NAME', 'RACE_OR_ETHNICITY': 'RACE'})\n",
    "TN1617Enrl = TN1617Enrl.rename(columns={'DISTRICT_ID': 'DISTRICT', 'DISTRICT_NAME': 'DISTRICT NAME', \n",
    "                                        'SCHOOL_ID': 'SCHOOL', 'SCHOOL_NAME': 'SCHOOL NAME'})\n",
    "TN1718Enrl = TN1718Enrl.rename(columns={'GRADE ': 'GRADE'})"
   ]
  },
  {
   "cell_type": "code",
   "execution_count": 6,
   "metadata": {},
   "outputs": [
    {
     "name": "stdout",
     "output_type": "stream",
     "text": [
      "Total 1516 TN schools -  1790\n",
      "Total 1617 TN schools -  1774\n",
      "Total 1718 TN schools -  1745\n",
      "Total 1819 TN schools -  1758\n",
      "Total 1617 TN schools -  1719\n",
      "Total 1718 TN schools -  1705\n",
      "Total 1819 TN schools -  1712\n"
     ]
    }
   ],
   "source": [
    "#For each of the enrollment tables, print the total number of unique schools in the set\n",
    "Enroll = {'1516': TN1516Enrl, '1617': TN1617Enrl, '1718': TN1718Enrl, '1819': TN1819Enrl}\n",
    "Acct = {'1617': TN1617Acct, '1718': TN1718Acct, '1819': TN1819Acct}\n",
    "\n",
    "for i in Enroll.keys():\n",
    "    print('Total {} TN schools - '.format(i), len(list(set(Enroll[i]['DISTRICT'].astype('str') + ' ' + Enroll[i]['SCHOOL'].astype('str')))))\n",
    "\n",
    "for i in Acct.keys():\n",
    "    print('Total {} TN schools - '.format(i), len(list(set(Acct[i]['system'].astype('str') + ' ' + Acct[i]['school'].astype('str')))))"
   ]
  },
  {
   "cell_type": "markdown",
   "metadata": {},
   "source": [
    "Below I pair the Enrollment data down significantly. I am interested in total school size, and do not currently have the disaggregation in performance data to match with enrollment data, so I can pull out just the summary lines that roll up All Grades, All Race/Ethnic Groups, and All Genders."
   ]
  },
  {
   "cell_type": "code",
   "execution_count": 7,
   "metadata": {},
   "outputs": [
    {
     "name": "stdout",
     "output_type": "stream",
     "text": [
      "163280\n",
      "1790\n",
      "151776\n",
      "1774\n",
      "230286\n",
      "1745\n",
      "294240\n",
      "1758\n"
     ]
    }
   ],
   "source": [
    "#For each of the TN Enrollment tables, print the length of the table.\n",
    "#Select the aggregated data for each school and then generate a join key\n",
    "#Print the length again to see what the loss of data was.\n",
    "print(len(TN1516Enrl))\n",
    "for i in TN1516Enrl.columns[:7]:\n",
    "    TN1516Enrl[i] = TN1516Enrl[i].astype('str')\n",
    "TN1516Enrl = TN1516Enrl[TN1516Enrl['GRADE'] == 'All Grades']\n",
    "TN1516Enrl = TN1516Enrl[TN1516Enrl['RACE'] == 'All Race/Ethnic Groups']\n",
    "TN1516Enrl = TN1516Enrl[TN1516Enrl['GENDER'] == 'All Genders']\n",
    "TN1516Enrl['join'] = TN1516Enrl['DISTRICT'] + ' ' + TN1516Enrl['SCHOOL']\n",
    "print(len(TN1516Enrl))\n",
    "\n",
    "print(len(TN1617Enrl))\n",
    "for i in TN1617Enrl.columns[:7]:\n",
    "    TN1617Enrl[i] = TN1617Enrl[i].astype('str')\n",
    "TN1617Enrl = TN1617Enrl[TN1617Enrl['GRADE'] == 'All Grades']\n",
    "TN1617Enrl = TN1617Enrl[TN1617Enrl['RACE'] == 'All Race/Ethnic Groups']\n",
    "TN1617Enrl = TN1617Enrl[TN1617Enrl['GENDER'] == 'All Genders']\n",
    "TN1617Enrl['join'] = TN1617Enrl['DISTRICT'] + ' ' + TN1617Enrl['SCHOOL']\n",
    "print(len(TN1617Enrl))\n",
    "\n",
    "print(len(TN1718Enrl))\n",
    "for i in TN1718Enrl.columns[:7]:\n",
    "    TN1718Enrl[i] = TN1718Enrl[i].astype('str')\n",
    "TN1718Enrl = TN1718Enrl[TN1718Enrl['GRADE'] == 'All Grades']\n",
    "TN1718Enrl = TN1718Enrl[TN1718Enrl['RACE'] == 'All Race/Ethnic Groups']\n",
    "TN1718Enrl = TN1718Enrl[TN1718Enrl['GENDER'] == 'All Genders']\n",
    "TN1718Enrl['join'] = TN1718Enrl['DISTRICT'] + ' ' + TN1718Enrl['SCHOOL']\n",
    "print(len(TN1718Enrl))\n",
    "\n",
    "print(len(TN1819Enrl))\n",
    "for i in TN1819Enrl.columns[:7]:\n",
    "    TN1819Enrl[i] = TN1819Enrl[i].astype('str')\n",
    "TN1819Enrl = TN1819Enrl[TN1819Enrl['GRADE'] == 'All Grades']\n",
    "TN1819Enrl = TN1819Enrl[TN1819Enrl['RACE'] == 'All Race/Ethnic Groups']\n",
    "TN1819Enrl = TN1819Enrl[TN1819Enrl['GENDER'] == 'All Genders']\n",
    "TN1819Enrl['join'] = TN1819Enrl['DISTRICT'] + ' ' + TN1819Enrl['SCHOOL']\n",
    "print(len(TN1819Enrl))"
   ]
  },
  {
   "cell_type": "code",
   "execution_count": 8,
   "metadata": {},
   "outputs": [
    {
     "name": "stdout",
     "output_type": "stream",
     "text": [
      "<class 'pandas.core.frame.DataFrame'>\n",
      "Int64Index: 1758 entries, 0 to 1757\n",
      "Data columns (total 7 columns):\n",
      "join               1758 non-null object\n",
      "DISTRICT_1819      1758 non-null object\n",
      "SCHOOL_1819        1758 non-null object\n",
      "ENROLLMENT_1516    1703 non-null float64\n",
      "ENROLLMENT_1617    1722 non-null float64\n",
      "ENROLLMENT_1718    1733 non-null float64\n",
      "ENROLLMENT_1819    1758 non-null int64\n",
      "dtypes: float64(3), int64(1), object(3)\n",
      "memory usage: 109.9+ KB\n"
     ]
    }
   ],
   "source": [
    "#Generate the Enrollment table, which is a combination of enrollment from the last 4 years\n",
    "Enrollment = pd.merge(TN1516Enrl, TN1617Enrl, on = 'join', how = 'right', suffixes=('_1516','_1617'))\n",
    "Enrollment = pd.merge(Enrollment, TN1718Enrl, on = 'join', how = 'right')\n",
    "Enrollment = pd.merge(Enrollment, TN1819Enrl, on = 'join', how = 'right', suffixes=('_1718','_1819'))\n",
    "\n",
    "#Select the necessary columns from the above joins\n",
    "Enrollment = Enrollment[['join', 'DISTRICT_1819', 'SCHOOL_1819', 'ENROLLMENT_1516', \n",
    "                         'ENROLLMENT_1617', 'ENROLLMENT_1718', 'ENROLLMENT_1819']]\n",
    "\n",
    "Enrollment.info()"
   ]
  },
  {
   "cell_type": "code",
   "execution_count": 9,
   "metadata": {},
   "outputs": [
    {
     "data": {
      "text/html": [
       "<div>\n",
       "<style scoped>\n",
       "    .dataframe tbody tr th:only-of-type {\n",
       "        vertical-align: middle;\n",
       "    }\n",
       "\n",
       "    .dataframe tbody tr th {\n",
       "        vertical-align: top;\n",
       "    }\n",
       "\n",
       "    .dataframe thead th {\n",
       "        text-align: right;\n",
       "    }\n",
       "</style>\n",
       "<table border=\"1\" class=\"dataframe\">\n",
       "  <thead>\n",
       "    <tr style=\"text-align: right;\">\n",
       "      <th></th>\n",
       "      <th>join</th>\n",
       "      <th>DISTRICT_1819</th>\n",
       "      <th>SCHOOL_1819</th>\n",
       "      <th>ENROLLMENT_1516</th>\n",
       "      <th>ENROLLMENT_1617</th>\n",
       "      <th>ENROLLMENT_1718</th>\n",
       "      <th>ENROLLMENT_1819</th>\n",
       "      <th>GR1617</th>\n",
       "      <th>GR1718</th>\n",
       "      <th>GR1819</th>\n",
       "    </tr>\n",
       "  </thead>\n",
       "  <tbody>\n",
       "    <tr>\n",
       "      <td>0</td>\n",
       "      <td>10 2</td>\n",
       "      <td>10</td>\n",
       "      <td>2</td>\n",
       "      <td>1123.0</td>\n",
       "      <td>1054.0</td>\n",
       "      <td>1056.0</td>\n",
       "      <td>1074</td>\n",
       "      <td>-0.0614</td>\n",
       "      <td>0.0019</td>\n",
       "      <td>0.0170</td>\n",
       "    </tr>\n",
       "    <tr>\n",
       "      <td>1</td>\n",
       "      <td>10 5</td>\n",
       "      <td>10</td>\n",
       "      <td>5</td>\n",
       "      <td>333.0</td>\n",
       "      <td>342.0</td>\n",
       "      <td>310.0</td>\n",
       "      <td>338</td>\n",
       "      <td>0.0270</td>\n",
       "      <td>-0.0936</td>\n",
       "      <td>0.0903</td>\n",
       "    </tr>\n",
       "    <tr>\n",
       "      <td>2</td>\n",
       "      <td>10 10</td>\n",
       "      <td>10</td>\n",
       "      <td>10</td>\n",
       "      <td>119.0</td>\n",
       "      <td>128.0</td>\n",
       "      <td>109.0</td>\n",
       "      <td>127</td>\n",
       "      <td>0.0756</td>\n",
       "      <td>-0.1484</td>\n",
       "      <td>0.1651</td>\n",
       "    </tr>\n",
       "    <tr>\n",
       "      <td>3</td>\n",
       "      <td>10 15</td>\n",
       "      <td>10</td>\n",
       "      <td>15</td>\n",
       "      <td>541.0</td>\n",
       "      <td>529.0</td>\n",
       "      <td>459.0</td>\n",
       "      <td>486</td>\n",
       "      <td>-0.0222</td>\n",
       "      <td>-0.1323</td>\n",
       "      <td>0.0588</td>\n",
       "    </tr>\n",
       "    <tr>\n",
       "      <td>4</td>\n",
       "      <td>10 20</td>\n",
       "      <td>10</td>\n",
       "      <td>20</td>\n",
       "      <td>634.0</td>\n",
       "      <td>651.0</td>\n",
       "      <td>666.0</td>\n",
       "      <td>664</td>\n",
       "      <td>0.0268</td>\n",
       "      <td>0.0230</td>\n",
       "      <td>-0.0030</td>\n",
       "    </tr>\n",
       "  </tbody>\n",
       "</table>\n",
       "</div>"
      ],
      "text/plain": [
       "    join DISTRICT_1819 SCHOOL_1819  ENROLLMENT_1516  ENROLLMENT_1617  \\\n",
       "0   10 2            10           2           1123.0           1054.0   \n",
       "1   10 5            10           5            333.0            342.0   \n",
       "2  10 10            10          10            119.0            128.0   \n",
       "3  10 15            10          15            541.0            529.0   \n",
       "4  10 20            10          20            634.0            651.0   \n",
       "\n",
       "   ENROLLMENT_1718  ENROLLMENT_1819  GR1617  GR1718  GR1819  \n",
       "0           1056.0             1074 -0.0614  0.0019  0.0170  \n",
       "1            310.0              338  0.0270 -0.0936  0.0903  \n",
       "2            109.0              127  0.0756 -0.1484  0.1651  \n",
       "3            459.0              486 -0.0222 -0.1323  0.0588  \n",
       "4            666.0              664  0.0268  0.0230 -0.0030  "
      ]
     },
     "execution_count": 9,
     "metadata": {},
     "output_type": "execute_result"
    }
   ],
   "source": [
    "#Generate a growth rate for each year, calculating the rate of change in size of each school between the 16-17/17-18/18-19\n",
    "Enrollment['GR1617'] = round((Enrollment['ENROLLMENT_1617'] - Enrollment['ENROLLMENT_1516']) / Enrollment['ENROLLMENT_1516'],4)\n",
    "Enrollment['GR1718'] = round((Enrollment['ENROLLMENT_1718'] - Enrollment['ENROLLMENT_1617']) / Enrollment['ENROLLMENT_1617'],4)\n",
    "Enrollment['GR1819'] = round((Enrollment['ENROLLMENT_1819'] - Enrollment['ENROLLMENT_1718']) / Enrollment['ENROLLMENT_1718'],4)\n",
    "Enrollment.head()"
   ]
  },
  {
   "cell_type": "code",
   "execution_count": 10,
   "metadata": {},
   "outputs": [],
   "source": [
    "#For each of the Accountability data sets, remove any duplicate fields - \n",
    "#This removes any of the rows where the performance data is split out by grades, keeiping\n",
    "#just the rows where All Students' scores are summarized - there is now just one\n",
    "#row per system/school/subject\n",
    "TN1617Acct = TN1617Acct.drop_duplicates(['system', 'school', 'subject', 'grade'])\n",
    "TN1617Acct['join'] = TN1617Acct['system'].astype('str') + ' ' + TN1617Acct['school'].astype('str') + ' ' + TN1617Acct['subject'] + ' ' + TN1617Acct['grade']\n",
    "TN1617Acct = TN1617Acct[['join', 'year', 'system', 'school', 'subject', 'grade', 'valid_tests', 'pct_on_mastered']]\n",
    "TN1617Acct = TN1617Acct[(TN1617Acct['pct_on_mastered'] != '*') & (TN1617Acct['pct_on_mastered'] != '**')]\n",
    "\n",
    "TN1718Acct = TN1718Acct.drop_duplicates(['system', 'school', 'subject', 'grade'])\n",
    "TN1718Acct['join'] = TN1718Acct['system'].astype('str') + ' ' + TN1718Acct['school'].astype('str') + ' ' + TN1718Acct['subject'] + ' ' + TN1718Acct['grade']\n",
    "TN1718Acct = TN1718Acct[['join', 'year', 'system', 'school', 'subject', 'grade', 'valid_tests', 'pct_on_mastered']]\n",
    "TN1718Acct = TN1718Acct[(TN1718Acct['pct_on_mastered'] != '*') & (TN1718Acct['pct_on_mastered'] != '**')]\n",
    "\n",
    "TN1819Acct = TN1819Acct.drop_duplicates(['system', 'school', 'subject', 'grade'])\n",
    "TN1819Acct['join'] = TN1819Acct['system'].astype('str') + ' ' + TN1819Acct['school'].astype('str') + ' ' + TN1819Acct['subject'] + ' ' + TN1819Acct['grade']\n",
    "TN1819Acct = TN1819Acct[['join', 'year', 'system', 'school', 'subject', 'grade', 'valid_tests', 'pct_on_mastered']]\n",
    "TN1819Acct = TN1819Acct[(TN1819Acct['pct_on_mastered'] != '*') & (TN1819Acct['pct_on_mastered'] != '**')]"
   ]
  },
  {
   "cell_type": "code",
   "execution_count": 11,
   "metadata": {},
   "outputs": [
    {
     "name": "stdout",
     "output_type": "stream",
     "text": [
      "<class 'pandas.core.frame.DataFrame'>\n",
      "Int64Index: 5041 entries, 0 to 5040\n",
      "Data columns (total 7 columns):\n",
      "system                  5041 non-null int64\n",
      "school                  5041 non-null int64\n",
      "subject                 5041 non-null object\n",
      "grade                   5041 non-null object\n",
      "pct_on_mastered_1617    3931 non-null object\n",
      "pct_on_mastered_1718    4867 non-null object\n",
      "pct_on_mastered         5041 non-null object\n",
      "dtypes: int64(2), object(5)\n",
      "memory usage: 315.1+ KB\n"
     ]
    }
   ],
   "source": [
    "#Generate the Accountability table by combining the academic achievement data sets\n",
    "Accountability = pd.merge(TN1617Acct, TN1718Acct, on = 'join', how = 'right', suffixes=('_1617', '_1718'))\n",
    "Accountability = pd.merge(Accountability, TN1819Acct, on = 'join', how = 'right')\n",
    "\n",
    "#Select the appropriate columns from Accountability\n",
    "Accountability = Accountability[['system', 'school', 'subject', 'grade',\n",
    "                                 'pct_on_mastered_1617', 'pct_on_mastered_1718', 'pct_on_mastered']]\n",
    "\n",
    "Accountability.info()"
   ]
  },
  {
   "cell_type": "code",
   "execution_count": 12,
   "metadata": {},
   "outputs": [],
   "source": [
    "#Generate a join key on the Accountability table to join the Enrollment information\n",
    "Accountability['join'] = Accountability['system'].astype('str') + ' ' + Accountability['school'].astype('str')\n",
    "\n",
    "#Make a dataframe AandE that combines information from the Enrollment and Academic data\n",
    "AandE = pd.merge(Accountability, Enrollment[['join', 'GR1617', 'GR1718', 'GR1819']], how = 'inner', on = 'join')\n",
    "\n",
    "#Generate Academic Growth fields, which are the delta in points between current and prior year pct on target or mastered\n",
    "AandE['Ac1718'] = (AandE['pct_on_mastered_1718'] - AandE['pct_on_mastered_1617']).astype('float64')\n",
    "AandE['Ac1819'] = (AandE['pct_on_mastered'] - AandE['pct_on_mastered_1718']).astype('float64')"
   ]
  },
  {
   "cell_type": "code",
   "execution_count": 13,
   "metadata": {},
   "outputs": [
    {
     "data": {
      "text/plain": [
       "{'GR1617': (-0.362, 0.39),\n",
       " 'GR1718': (-0.426, 0.389),\n",
       " 'GR1819': (-0.288, 0.355),\n",
       " 'Ac1718': (-21.999, 19.508),\n",
       " 'Ac1819': (-19.829, 24.511)}"
      ]
     },
     "execution_count": 13,
     "metadata": {},
     "output_type": "execute_result"
    }
   ],
   "source": [
    "#Find outliers in the data by calculating +/- 3 standard deviations from the mean\n",
    "\n",
    "a = {}\n",
    "for i in ['GR1617', 'GR1718', 'GR1819', 'Ac1718', 'Ac1819']:\n",
    "    a[i] = (round(np.mean(AandE[i])-(3*(np.std(AandE[i]))),3), round(np.mean(AandE[i])+(3*(np.std(AandE[i]))),3))\n",
    "    \n",
    "a"
   ]
  },
  {
   "cell_type": "code",
   "execution_count": 14,
   "metadata": {},
   "outputs": [
    {
     "data": {
      "text/html": [
       "<div>\n",
       "<style scoped>\n",
       "    .dataframe tbody tr th:only-of-type {\n",
       "        vertical-align: middle;\n",
       "    }\n",
       "\n",
       "    .dataframe tbody tr th {\n",
       "        vertical-align: top;\n",
       "    }\n",
       "\n",
       "    .dataframe thead th {\n",
       "        text-align: right;\n",
       "    }\n",
       "</style>\n",
       "<table border=\"1\" class=\"dataframe\">\n",
       "  <thead>\n",
       "    <tr style=\"text-align: right;\">\n",
       "      <th></th>\n",
       "      <th>system</th>\n",
       "      <th>school</th>\n",
       "      <th>GR1617</th>\n",
       "      <th>GR1718</th>\n",
       "      <th>GR1819</th>\n",
       "      <th>Ac1718</th>\n",
       "      <th>Ac1819</th>\n",
       "    </tr>\n",
       "  </thead>\n",
       "  <tbody>\n",
       "    <tr>\n",
       "      <td>count</td>\n",
       "      <td>4685.000000</td>\n",
       "      <td>4685.000000</td>\n",
       "      <td>4685.000000</td>\n",
       "      <td>4685.000000</td>\n",
       "      <td>4685.000000</td>\n",
       "      <td>3742.000000</td>\n",
       "      <td>4585.00000</td>\n",
       "    </tr>\n",
       "    <tr>\n",
       "      <td>mean</td>\n",
       "      <td>509.987834</td>\n",
       "      <td>522.987407</td>\n",
       "      <td>0.001382</td>\n",
       "      <td>-0.030452</td>\n",
       "      <td>0.026017</td>\n",
       "      <td>-1.201309</td>\n",
       "      <td>2.35193</td>\n",
       "    </tr>\n",
       "    <tr>\n",
       "      <td>std</td>\n",
       "      <td>287.008952</td>\n",
       "      <td>1633.200904</td>\n",
       "      <td>0.074105</td>\n",
       "      <td>0.080361</td>\n",
       "      <td>0.076062</td>\n",
       "      <td>6.338050</td>\n",
       "      <td>6.66928</td>\n",
       "    </tr>\n",
       "    <tr>\n",
       "      <td>min</td>\n",
       "      <td>10.000000</td>\n",
       "      <td>1.000000</td>\n",
       "      <td>-0.345100</td>\n",
       "      <td>-0.406000</td>\n",
       "      <td>-0.286400</td>\n",
       "      <td>-21.700000</td>\n",
       "      <td>-19.60000</td>\n",
       "    </tr>\n",
       "    <tr>\n",
       "      <td>25%</td>\n",
       "      <td>231.000000</td>\n",
       "      <td>20.000000</td>\n",
       "      <td>-0.036600</td>\n",
       "      <td>-0.076200</td>\n",
       "      <td>-0.019900</td>\n",
       "      <td>-5.200000</td>\n",
       "      <td>-2.00000</td>\n",
       "    </tr>\n",
       "    <tr>\n",
       "      <td>50%</td>\n",
       "      <td>530.000000</td>\n",
       "      <td>45.000000</td>\n",
       "      <td>-0.003000</td>\n",
       "      <td>-0.027100</td>\n",
       "      <td>0.019100</td>\n",
       "      <td>-1.100000</td>\n",
       "      <td>2.10000</td>\n",
       "    </tr>\n",
       "    <tr>\n",
       "      <td>75%</td>\n",
       "      <td>792.000000</td>\n",
       "      <td>104.000000</td>\n",
       "      <td>0.032100</td>\n",
       "      <td>0.016800</td>\n",
       "      <td>0.064600</td>\n",
       "      <td>2.800000</td>\n",
       "      <td>6.60000</td>\n",
       "    </tr>\n",
       "    <tr>\n",
       "      <td>max</td>\n",
       "      <td>985.000000</td>\n",
       "      <td>8280.000000</td>\n",
       "      <td>0.380000</td>\n",
       "      <td>0.319900</td>\n",
       "      <td>0.353600</td>\n",
       "      <td>19.100000</td>\n",
       "      <td>24.50000</td>\n",
       "    </tr>\n",
       "  </tbody>\n",
       "</table>\n",
       "</div>"
      ],
      "text/plain": [
       "            system       school       GR1617       GR1718       GR1819  \\\n",
       "count  4685.000000  4685.000000  4685.000000  4685.000000  4685.000000   \n",
       "mean    509.987834   522.987407     0.001382    -0.030452     0.026017   \n",
       "std     287.008952  1633.200904     0.074105     0.080361     0.076062   \n",
       "min      10.000000     1.000000    -0.345100    -0.406000    -0.286400   \n",
       "25%     231.000000    20.000000    -0.036600    -0.076200    -0.019900   \n",
       "50%     530.000000    45.000000    -0.003000    -0.027100     0.019100   \n",
       "75%     792.000000   104.000000     0.032100     0.016800     0.064600   \n",
       "max     985.000000  8280.000000     0.380000     0.319900     0.353600   \n",
       "\n",
       "            Ac1718      Ac1819  \n",
       "count  3742.000000  4585.00000  \n",
       "mean     -1.201309     2.35193  \n",
       "std       6.338050     6.66928  \n",
       "min     -21.700000   -19.60000  \n",
       "25%      -5.200000    -2.00000  \n",
       "50%      -1.100000     2.10000  \n",
       "75%       2.800000     6.60000  \n",
       "max      19.100000    24.50000  "
      ]
     },
     "execution_count": 14,
     "metadata": {},
     "output_type": "execute_result"
    }
   ],
   "source": [
    "#Here I am removing outliers that are +/- 3 Stds away from mean.\n",
    "#I want to keep the Null values in Ac1718 and Ac1819 so I can caluclate Social Studies \n",
    "#and US History for 2018-19 - many seem to be null on the Ac1718\n",
    "AandE = AandE[(AandE['GR1617'] >= -.362) & (AandE['GR1617'] <= 0.39)]\n",
    "AandE = AandE[(AandE['GR1718'] >= -.426) & (AandE['GR1718'] <= 0.389)]\n",
    "AandE = AandE[(AandE['GR1819'] >= -.288) & (AandE['GR1819'] <= 0.355)]\n",
    "AandE = AandE[((AandE['Ac1718'] >= -21.999) & (AandE['Ac1718'] <= 19.508)) | AandE['Ac1718'].isna()]\n",
    "AandE = AandE[(AandE['Ac1819'] >= -19.829) & (AandE['Ac1819'] <= 24.511) | AandE['Ac1819'].isna()]\n",
    "AandE.describe()"
   ]
  },
  {
   "cell_type": "code",
   "execution_count": 15,
   "metadata": {},
   "outputs": [
    {
     "data": {
      "text/plain": [
       "ELA               1623\n",
       "Math              1596\n",
       "Social Studies     576\n",
       "HS English         326\n",
       "HS Math            307\n",
       "US History         257\n",
       "Name: subject, dtype: int64"
      ]
     },
     "execution_count": 15,
     "metadata": {},
     "output_type": "execute_result"
    }
   ],
   "source": [
    "#Quick check that we do have values across all subjects\n",
    "AandE.subject.value_counts()"
   ]
  },
  {
   "cell_type": "markdown",
   "metadata": {},
   "source": [
    "### TN Analysis\n",
    "#### TN Trial 1 17-18\n",
    "\n",
    "Below I will split the data into two groups, schools which were at or below the average growth rate (-3.2%) for the 16-17 -> 18-19 school year. I will then calculate a levene test to check for equal variance and perform a Student's or Welch's t-test accordingly to test the null hypothesis that there is no difference in the mean delta of academic performance between groups that changed size at different rates."
   ]
  },
  {
   "cell_type": "code",
   "execution_count": 16,
   "metadata": {},
   "outputs": [
    {
     "name": "stdout",
     "output_type": "stream",
     "text": [
      "1600\n",
      "2259\n",
      " \n",
      "475\n",
      "486\n",
      "123\n",
      "128\n",
      " \n",
      "834\n",
      "857\n",
      "87\n",
      "107\n"
     ]
    }
   ],
   "source": [
    "#Splitting the data into positive and less than mean growth rate\n",
    "\n",
    "# Test 1 is positive growth rate\n",
    "# Test 2 is below average growth rate\n",
    "\n",
    "Test1 = AandE[AandE['GR1718'] > 0]\n",
    "Test2 = AandE[AandE['GR1718'] <= -0.030452]\n",
    "\n",
    "print(len(Test1))\n",
    "print(len(Test2))\n",
    "print(' ')\n",
    "\n",
    "a = Test1[Test1['subject'] == 'Math']\n",
    "b = Test1[Test1['subject'] == 'ELA']\n",
    "c = Test1[Test1['subject'] == 'HS Math']\n",
    "d = Test1[Test1['subject'] == 'HS English']\n",
    "a = a.dropna(subset=['Ac1718'])\n",
    "b = b.dropna(subset=['Ac1718'])\n",
    "c = c.dropna(subset=['Ac1718'])\n",
    "d = d.dropna(subset=['Ac1718'])\n",
    "for i in [a, b, c, d]:\n",
    "    i = i.dropna()\n",
    "    print(len(i))\n",
    "\n",
    "print(' ')\n",
    "m = Test2[Test2['subject'] == 'Math']\n",
    "n = Test2[Test2['subject'] == 'ELA']\n",
    "o = Test2[Test2['subject'] == 'HS Math']\n",
    "p = Test2[Test2['subject'] == 'HS English']\n",
    "m = m.dropna(subset=['Ac1718'])\n",
    "n = n.dropna(subset=['Ac1718'])\n",
    "o = o.dropna(subset=['Ac1718'])\n",
    "p = p.dropna(subset=['Ac1718'])\n",
    "for i in [m, n, o, p]:\n",
    "    print(len(i))"
   ]
  },
  {
   "cell_type": "code",
   "execution_count": 17,
   "metadata": {},
   "outputs": [
    {
     "name": "stdout",
     "output_type": "stream",
     "text": [
      "LeveneResult(statistic=6.830174300244695, pvalue=0.009065967772144821)\n",
      "LeveneResult(statistic=3.045338704114774, pvalue=0.08119828041578174)\n",
      "LeveneResult(statistic=2.3352732610119293, pvalue=0.12799206366204266)\n",
      "LeveneResult(statistic=3.487629161835747, pvalue=0.06308465119067527)\n"
     ]
    }
   ],
   "source": [
    "#Calculate the Levene test for equal variance for each of the subject pairs\n",
    "#If p-value is < alpha, populations do not have equal variance and Welch's\n",
    "#t-test must substitute for Students\n",
    "print(levene(a['Ac1718'], m['Ac1718']))\n",
    "print(levene(b['Ac1718'], n['Ac1718']))\n",
    "print(levene(c['Ac1718'], o['Ac1718']))\n",
    "print(levene(d['Ac1718'], p['Ac1718']))"
   ]
  },
  {
   "cell_type": "code",
   "execution_count": 18,
   "metadata": {},
   "outputs": [
    {
     "name": "stdout",
     "output_type": "stream",
     "text": [
      "Less than mean GR vs positive GR\n",
      "Math -1.608 -1.109 0.184\n",
      "ELA -0.573 0.021 0.083\n",
      "HS Math -1.772 -0.801 0.202\n",
      "HS English -7.459 -5.039 0.0\n"
     ]
    }
   ],
   "source": [
    "#Only the comparison test for Math populations substitutes Welch's due to the unequal variance\n",
    "print('Less than mean GR vs positive GR')\n",
    "print('Math', round(np.mean(a['Ac1718']),3), round(np.mean(m['Ac1718']),3), \n",
    "      round(ttest_ind(a['Ac1718'], m['Ac1718'], equal_var=False)[1],3))\n",
    "print('ELA', round(np.mean(b['Ac1718']),3), round(np.mean(n['Ac1718']),3), \n",
    "      round(ttest_ind(b['Ac1718'], n['Ac1718'])[1],3))\n",
    "print('HS Math', round(np.mean(c['Ac1718']),3), round(np.mean(o['Ac1718']),3), \n",
    "      round(ttest_ind(c['Ac1718'], o['Ac1718'])[1],3))\n",
    "print('HS English', round(np.mean(d['Ac1718']),3), round(np.mean(p['Ac1718']),3), \n",
    "      round(ttest_ind(d['Ac1718'], p['Ac1718'])[1],3))"
   ]
  },
  {
   "cell_type": "code",
   "execution_count": 19,
   "metadata": {},
   "outputs": [
    {
     "data": {
      "image/png": "[encoded data removed]",
      "text/plain": [
       "<Figure size 864x576 with 1 Axes>"
      ]
     },
     "metadata": {
      "needs_background": "light"
     },
     "output_type": "display_data"
    }
   ],
   "source": [
    "#Select a subset of the data that mirror the above tested groups\n",
    "TNViz = AandE[(AandE['GR1718'] > 0) | (AandE['GR1718'] <= -0.030452)]\n",
    "\n",
    "#Separate the data dependent on the 1718 Growth Rate\n",
    "TNViz['hue'] = ['School w/ positive avg size growth (>0%)' if i > 0 \n",
    "                else 'Schools w/ below avg size growth (<-3.05%)' for i in TNViz['GR1718']]\n",
    "\n",
    "#Generate a boxplot showing the average change in percentage points\n",
    "order=['ELA', 'HS English', 'Math', 'HS Math']\n",
    "plt.figure(figsize=(12,8))\n",
    "sns.set_style('darkgrid')\n",
    "sns.set(font_scale=1.4)\n",
    "sns.barplot(x='subject', y='Ac1718', hue='hue', order=order, data=TNViz, ci=False)\n",
    "plt.title('Avg YOY percentage point change in students at or above expectations (16-17 -> 17-18)', fontsize=16)\n",
    "plt.ylabel('Percentage Points change', fontsize=14)\n",
    "plt.xlabel('Subject', fontsize=14)\n",
    "plt.legend(fontsize=12);"
   ]
  },
  {
   "cell_type": "markdown",
   "metadata": {},
   "source": [
    "Average growth rate for TN schools between 1617 and 1718 was -3.05%. In this analysis I compared schools who had positive growth rate (>0%) vs schools where growth rate was below average (<-3.05%).\n",
    "\n",
    "All schools with HS English averaged a drop in percentage of scholars who were 'on target' or 'mastered' level, however schools that had positive growth dropped an average of 2.4 points more than schools that shrunk at or more than the average YOY rate of -3.05%."
   ]
  },
  {
   "cell_type": "markdown",
   "metadata": {},
   "source": [
    "#### TN Trial 2 - 18-19"
   ]
  },
  {
   "cell_type": "code",
   "execution_count": 20,
   "metadata": {},
   "outputs": [
    {
     "name": "stdout",
     "output_type": "stream",
     "text": [
      "2113\n",
      "1825\n",
      " \n",
      "827\n",
      "846\n",
      "55\n",
      "57\n",
      "250\n",
      "41\n",
      " \n",
      "521\n",
      "537\n",
      "168\n",
      "192\n",
      "211\n",
      "143\n"
     ]
    }
   ],
   "source": [
    "# Test 1 is Above Average growth rate\n",
    "# Test 2 is negative growth rate\n",
    "\n",
    "Test1 = AandE[AandE['GR1819'] > 0.02602]\n",
    "Test2 = AandE[AandE['GR1819'] <= 0]\n",
    "\n",
    "print(len(Test1))\n",
    "print(len(Test2))\n",
    "print(' ')\n",
    "\n",
    "a = Test1[Test1['subject'] == 'Math']\n",
    "b = Test1[Test1['subject'] == 'ELA']\n",
    "c = Test1[Test1['subject'] == 'HS Math']\n",
    "d = Test1[Test1['subject'] == 'HS English']\n",
    "e = Test1[Test1['subject'] == 'Social Studies']\n",
    "f = Test1[Test1['subject'] == 'US History']\n",
    "a = a.dropna(subset=['Ac1819'])\n",
    "b = b.dropna(subset=['Ac1819'])\n",
    "c = c.dropna(subset=['Ac1819'])\n",
    "d = d.dropna(subset=['Ac1819'])\n",
    "e = e.dropna(subset=['Ac1819'])\n",
    "f = f.dropna(subset=['Ac1819'])\n",
    "for i in [a, b, c, d, e, f]:\n",
    "    print(len(i))\n",
    "\n",
    "print(' ')\n",
    "m = Test2[Test2['subject'] == 'Math']\n",
    "n = Test2[Test2['subject'] == 'ELA']\n",
    "o = Test2[Test2['subject'] == 'HS Math']\n",
    "p = Test2[Test2['subject'] == 'HS English']\n",
    "q = Test2[Test2['subject'] == 'Social Studies']\n",
    "r = Test2[Test2['subject'] == 'US History']\n",
    "m = m.dropna(subset=['Ac1819'])\n",
    "n = n.dropna(subset=['Ac1819'])\n",
    "o = o.dropna(subset=['Ac1819'])\n",
    "p = p.dropna(subset=['Ac1819'])\n",
    "q = q.dropna(subset=['Ac1819'])\n",
    "r = r.dropna(subset=['Ac1819'])\n",
    "for i in [m, n, o, p, q, r]:\n",
    "    print(len(i))"
   ]
  },
  {
   "cell_type": "code",
   "execution_count": 21,
   "metadata": {},
   "outputs": [
    {
     "name": "stdout",
     "output_type": "stream",
     "text": [
      "LeveneResult(statistic=0.3022633239869244, pvalue=0.582558195975586)\n",
      "LeveneResult(statistic=0.08802811732070959, pvalue=0.7667437395847216)\n",
      "LeveneResult(statistic=0.4506012996848861, pvalue=0.5023872135649317)\n",
      "LeveneResult(statistic=4.117433773601457, pvalue=0.0436424182718203)\n",
      "LeveneResult(statistic=3.247179223958417, pvalue=0.07276570598958608)\n",
      "LeveneResult(statistic=3.9684528569047206, pvalue=0.04785544093226736)\n"
     ]
    }
   ],
   "source": [
    "#Calculate the Levene test for equal variance for each of the subject pairs\n",
    "#If p-value is < alpha, populations do not have equal variance and Welch's\n",
    "#t-test must substitute for Students\n",
    "print(levene(a['Ac1819'], m['Ac1819']))\n",
    "print(levene(b['Ac1819'], n['Ac1819']))\n",
    "print(levene(e['Ac1819'], q['Ac1819']))\n",
    "print(levene(c['Ac1819'], o['Ac1819']))\n",
    "print(levene(d['Ac1819'], p['Ac1819']))\n",
    "print(levene(f['Ac1819'], r['Ac1819']))"
   ]
  },
  {
   "cell_type": "code",
   "execution_count": 22,
   "metadata": {},
   "outputs": [
    {
     "name": "stdout",
     "output_type": "stream",
     "text": [
      "Greater than mean GR vs negative GR\n",
      "Math 4.435 4.446 0.976\n",
      "ELA -0.576 0.135 0.021\n",
      "Social Studies 0.891 2.002 0.086\n",
      "HS Math 2.758 3.787 0.216\n",
      "HS English 8.919 6.454 0.004\n",
      "US History 1.088 1.088 1.0\n"
     ]
    }
   ],
   "source": [
    "#Only the comparison test for US History populations substitutes Welch's due to the unequal variance\n",
    "print('Greater than mean GR vs negative GR')\n",
    "print('Math', round(np.mean(a['Ac1819']),3), round(np.mean(m['Ac1819']),3), \n",
    "      round(ttest_ind(a['Ac1819'], m['Ac1819'])[1],3))\n",
    "print('ELA', round(np.mean(b['Ac1819']),3), round(np.mean(n['Ac1819']),3), \n",
    "      round(ttest_ind(b['Ac1819'], n['Ac1819'])[1],3))\n",
    "print('Social Studies', round(np.mean(e['Ac1819']),3), round(np.mean(q['Ac1819']),3), \n",
    "      round(ttest_ind(e['Ac1819'], q['Ac1819'])[1],3))\n",
    "print('HS Math', round(np.mean(c['Ac1819']),3), round(np.mean(o['Ac1819']),3), \n",
    "      round(ttest_ind(c['Ac1819'], o['Ac1819'])[1],3))\n",
    "print('HS English', round(np.mean(d['Ac1819']),3), round(np.mean(p['Ac1819']),3), \n",
    "      round(ttest_ind(d['Ac1819'], p['Ac1819'])[1],3))\n",
    "print('US History', round(np.mean(f['Ac1819']),3), round(np.mean(r['Ac1819']),3), \n",
    "      round(ttest_ind(f['Ac1819'], r['Ac1819'], equal_var=False)[1],3))"
   ]
  },
  {
   "cell_type": "code",
   "execution_count": 23,
   "metadata": {},
   "outputs": [
    {
     "data": {
      "image/png": "[encoded data removed]",
      "text/plain": [
       "<Figure size 864x576 with 1 Axes>"
      ]
     },
     "metadata": {},
     "output_type": "display_data"
    }
   ],
   "source": [
    "#Select a subset of the data that mirror the above tested groups\n",
    "TNViz1 = AandE[(AandE['GR1819'] > 0.02602) | (AandE['GR1819'] <= 0)]\n",
    "\n",
    "#Separate the data dependent on the 1818 Growth Rate\n",
    "TNViz1['hue'] = ['School w/ above avg size growth (>2.6%)' if i > 0.02602 \n",
    "                 else 'Schools w/ negative avg size growth (<0%)' for i in TNViz1['GR1819']]\n",
    "\n",
    "#Generate a boxplot showing the average change in percentage points\n",
    "order=['ELA', 'HS English', 'Math', 'HS Math', 'Social Studies', 'US History']\n",
    "plt.figure(figsize=(12,8))\n",
    "sns.set_style('darkgrid')\n",
    "sns.set(font_scale=1.4)\n",
    "sns.barplot(x='subject', y='Ac1819', hue='hue', order=order, data=TNViz1, ci=False)\n",
    "plt.title('Avg YOY percentage point change in students at or above expectations (17-18 -> 18-19)', fontsize=16)\n",
    "plt.ylabel('Percentage Points change', fontsize=14)\n",
    "plt.xlabel('Subject', fontsize=14)\n",
    "plt.legend(fontsize=12);"
   ]
  },
  {
   "cell_type": "markdown",
   "metadata": {},
   "source": [
    "ELA and HS English are impacted by school size. \n",
    "\n",
    "While ELA scores stayed mostly flat over the year, change in school size did have a statistically significant difference. Those schools growing at a rate greater than the average TX YOY 17-18 -> 18-19 growth (>2.6%) will see an average decrease of 0.6 percentage points of students testing 'on' or 'mastered' proficiency levels, while those schools growing at a negative rate (<0%) would see an average increase in ELA scores of a mere 0.13 percentage points.\n",
    "\n",
    "For HS English, average performance went up YOY. While schools that had growth rates above average saw an increase in "
   ]
  },
  {
   "cell_type": "markdown",
   "metadata": {},
   "source": [
    "### Texas Data Cleaning"
   ]
  },
  {
   "cell_type": "code",
   "execution_count": 24,
   "metadata": {},
   "outputs": [],
   "source": [
    "#For each of the Enrollment and Academic data sets, load in the raw data and the \n",
    "#table key and replace the column headers in the data sets for ease of use\n",
    "name = tuple(i for i in TX1617Key.NAME)\n",
    "label = tuple(i for i in TX1617Key.LABEL)\n",
    "TX1617.rename(columns={i:j for i,j in zip(name,label)}, inplace=True)\n",
    "\n",
    "name = tuple(i for i in TX1718Key.NAME)\n",
    "label = tuple(i for i in TX1718Key.LABEL)\n",
    "TX1718.rename(columns={i:j for i,j in zip(name,label)}, inplace=True)\n",
    "\n",
    "name = tuple(i for i in TX1819Key.NAME)\n",
    "label = tuple(i for i in TX1819Key.LABEL)\n",
    "TX1819.rename(columns={i:j for i,j in zip(name,label)}, inplace=True)\n",
    "\n",
    "\n",
    "name = tuple(i for i in TX1617AcaKey.NAME)\n",
    "label = tuple(i for i in TX1617AcaKey.LABEL)\n",
    "TX1617Aca.rename(columns={i:j for i,j in zip(name,label)}, inplace=True)\n",
    "\n",
    "name = tuple(i for i in TX1718AcaKey.NAME)\n",
    "label = tuple(i for i in TX1718AcaKey.LABEL)\n",
    "TX1718Aca.rename(columns={i:j for i,j in zip(name,label)}, inplace=True)\n",
    "\n",
    "name = tuple(i for i in TX1819AcaKey.NAME)\n",
    "label = tuple(i for i in TX1819AcaKey.LABEL)\n",
    "TX1819Aca.rename(columns={i:j for i,j in zip(name,label)}, inplace=True)"
   ]
  },
  {
   "cell_type": "code",
   "execution_count": 25,
   "metadata": {},
   "outputs": [],
   "source": [
    "#Extract the enrollment numbers from the enrollment data sets\n",
    "TX1617Enrl = TX1617[['Campus Number', 'Total Number of Students']]\n",
    "TX1718Enrl = TX1718[['Campus Number', \n",
    "                     'Campus 2018 Student: All Students Count']]\n",
    "TX1819Enrl = TX1819[['Campus Number', \n",
    "                     'Campus 2019 Student: All Students Count']]"
   ]
  },
  {
   "cell_type": "code",
   "execution_count": 26,
   "metadata": {},
   "outputs": [
    {
     "data": {
      "text/html": [
       "<div>\n",
       "<style scoped>\n",
       "    .dataframe tbody tr th:only-of-type {\n",
       "        vertical-align: middle;\n",
       "    }\n",
       "\n",
       "    .dataframe tbody tr th {\n",
       "        vertical-align: top;\n",
       "    }\n",
       "\n",
       "    .dataframe thead th {\n",
       "        text-align: right;\n",
       "    }\n",
       "</style>\n",
       "<table border=\"1\" class=\"dataframe\">\n",
       "  <thead>\n",
       "    <tr style=\"text-align: right;\">\n",
       "      <th></th>\n",
       "      <th>Campus</th>\n",
       "      <th>1617Enrlmnt</th>\n",
       "      <th>1718Enrlmnt</th>\n",
       "      <th>1819Enrlmnt</th>\n",
       "    </tr>\n",
       "  </thead>\n",
       "  <tbody>\n",
       "    <tr>\n",
       "      <td>0</td>\n",
       "      <td>'001902001</td>\n",
       "      <td>173.0</td>\n",
       "      <td>168.0</td>\n",
       "      <td>179</td>\n",
       "    </tr>\n",
       "    <tr>\n",
       "      <td>1</td>\n",
       "      <td>'001902041</td>\n",
       "      <td>136.0</td>\n",
       "      <td>146.0</td>\n",
       "      <td>119</td>\n",
       "    </tr>\n",
       "    <tr>\n",
       "      <td>2</td>\n",
       "      <td>'001902103</td>\n",
       "      <td>267.0</td>\n",
       "      <td>261.0</td>\n",
       "      <td>266</td>\n",
       "    </tr>\n",
       "    <tr>\n",
       "      <td>3</td>\n",
       "      <td>'001903001</td>\n",
       "      <td>394.0</td>\n",
       "      <td>383.0</td>\n",
       "      <td>376</td>\n",
       "    </tr>\n",
       "    <tr>\n",
       "      <td>4</td>\n",
       "      <td>'001903041</td>\n",
       "      <td>294.0</td>\n",
       "      <td>277.0</td>\n",
       "      <td>261</td>\n",
       "    </tr>\n",
       "  </tbody>\n",
       "</table>\n",
       "</div>"
      ],
      "text/plain": [
       "       Campus  1617Enrlmnt  1718Enrlmnt  1819Enrlmnt\n",
       "0  '001902001        173.0        168.0          179\n",
       "1  '001902041        136.0        146.0          119\n",
       "2  '001902103        267.0        261.0          266\n",
       "3  '001903001        394.0        383.0          376\n",
       "4  '001903041        294.0        277.0          261"
      ]
     },
     "execution_count": 26,
     "metadata": {},
     "output_type": "execute_result"
    }
   ],
   "source": [
    "#Generate an Enrollment data frame from the enrollment data sets.\n",
    "#The use of right join maintains more information in the later years, retaining the most recent/relevant information.\n",
    "TXEnrollment = pd.merge(TX1617Enrl, TX1718Enrl, how='right', on='Campus Number')\n",
    "TXEnrollment = pd.merge(TXEnrollment, TX1819Enrl, how='right', on='Campus Number')\n",
    "\n",
    "TXEnrollment = TXEnrollment.rename(columns={'Campus Number': 'Campus', 'Total Number of Students': '1617Enrlmnt',\n",
    "                                            'Campus 2018 Student: All Students Count': '1718Enrlmnt',\n",
    "                                            'Campus 2019 Student: All Students Count': '1819Enrlmnt'})\n",
    "\n",
    "TXEnrollment.head()"
   ]
  },
  {
   "cell_type": "code",
   "execution_count": 27,
   "metadata": {},
   "outputs": [
    {
     "data": {
      "text/html": [
       "<div>\n",
       "<style scoped>\n",
       "    .dataframe tbody tr th:only-of-type {\n",
       "        vertical-align: middle;\n",
       "    }\n",
       "\n",
       "    .dataframe tbody tr th {\n",
       "        vertical-align: top;\n",
       "    }\n",
       "\n",
       "    .dataframe thead th {\n",
       "        text-align: right;\n",
       "    }\n",
       "</style>\n",
       "<table border=\"1\" class=\"dataframe\">\n",
       "  <thead>\n",
       "    <tr style=\"text-align: right;\">\n",
       "      <th></th>\n",
       "      <th>Campus Number</th>\n",
       "      <th>Campus 2019 Domain 1A: Meets Grade Level STD, Summed Grades 3-12, All Students All Tests Rate</th>\n",
       "    </tr>\n",
       "  </thead>\n",
       "  <tbody>\n",
       "    <tr>\n",
       "      <td>0</td>\n",
       "      <td>'001902001</td>\n",
       "      <td>67</td>\n",
       "    </tr>\n",
       "    <tr>\n",
       "      <td>1</td>\n",
       "      <td>'001902041</td>\n",
       "      <td>57</td>\n",
       "    </tr>\n",
       "  </tbody>\n",
       "</table>\n",
       "</div>"
      ],
      "text/plain": [
       "  Campus Number  \\\n",
       "0    '001902001   \n",
       "1    '001902041   \n",
       "\n",
       "  Campus 2019 Domain 1A: Meets Grade Level STD, Summed Grades 3-12, All Students All Tests Rate  \n",
       "0                                                 67                                             \n",
       "1                                                 57                                             "
      ]
     },
     "execution_count": 27,
     "metadata": {},
     "output_type": "execute_result"
    }
   ],
   "source": [
    "#Inspect the head of the 2018-19 academic data\n",
    "TX1819Aca[['Campus Number',\n",
    "           'Campus 2019 Domain 1A: Meets Grade Level STD, Summed Grades 3-12, All Students All Tests Rate']].head(2)"
   ]
  },
  {
   "cell_type": "code",
   "execution_count": 28,
   "metadata": {},
   "outputs": [
    {
     "data": {
      "text/plain": [
       "['Campus 2018 Domain 1A: Summed Grades 3-12, All Students All Tests Performance Denominator',\n",
       " 'Campus 2018 Domain 1A: Meets Grade Level STD, Summed Grades 3-12, All Students All Tests Numerator',\n",
       " 'Campus 2018 Domain 1A: Meets Grade Level STD, Summed Grades 3-12, All Students All Tests Rate',\n",
       " 'Campus 2018 Domain 1A: Masters Grade Level STD, Summed Grades 3-12, All Students All Tests Numerator',\n",
       " 'Campus 2018 Domain 1A: Masters Grade Level STD, Summed Grades 3-12, All Students All Tests Rate']"
      ]
     },
     "execution_count": 28,
     "metadata": {},
     "output_type": "execute_result"
    }
   ],
   "source": [
    "#Inspect the key to determine the All students test performance column\n",
    "list(TX1718AcaKey[TX1718AcaKey['LABEL'].str.contains('All Students')]['LABEL'])[:5]"
   ]
  },
  {
   "cell_type": "code",
   "execution_count": 29,
   "metadata": {},
   "outputs": [
    {
     "data": {
      "text/html": [
       "<div>\n",
       "<style scoped>\n",
       "    .dataframe tbody tr th:only-of-type {\n",
       "        vertical-align: middle;\n",
       "    }\n",
       "\n",
       "    .dataframe tbody tr th {\n",
       "        vertical-align: top;\n",
       "    }\n",
       "\n",
       "    .dataframe thead th {\n",
       "        text-align: right;\n",
       "    }\n",
       "</style>\n",
       "<table border=\"1\" class=\"dataframe\">\n",
       "  <thead>\n",
       "    <tr style=\"text-align: right;\">\n",
       "      <th></th>\n",
       "      <th>Campus Number</th>\n",
       "      <th>Campus 2018 Domain 1A: Meets Grade Level STD, Summed Grades 3-12, All Students All Tests Rate</th>\n",
       "    </tr>\n",
       "  </thead>\n",
       "  <tbody>\n",
       "    <tr>\n",
       "      <td>0</td>\n",
       "      <td>'001902001</td>\n",
       "      <td>58</td>\n",
       "    </tr>\n",
       "    <tr>\n",
       "      <td>1</td>\n",
       "      <td>'001902041</td>\n",
       "      <td>44</td>\n",
       "    </tr>\n",
       "  </tbody>\n",
       "</table>\n",
       "</div>"
      ],
      "text/plain": [
       "  Campus Number  \\\n",
       "0    '001902001   \n",
       "1    '001902041   \n",
       "\n",
       "  Campus 2018 Domain 1A: Meets Grade Level STD, Summed Grades 3-12, All Students All Tests Rate  \n",
       "0                                                 58                                             \n",
       "1                                                 44                                             "
      ]
     },
     "execution_count": 29,
     "metadata": {},
     "output_type": "execute_result"
    }
   ],
   "source": [
    "#Inspect the head of the 2018-19 academic data\n",
    "TX1718Aca[['Campus Number', \n",
    "           'Campus 2018 Domain 1A: Meets Grade Level STD, Summed Grades 3-12, All Students All Tests Rate']].head(2)"
   ]
  },
  {
   "cell_type": "code",
   "execution_count": 30,
   "metadata": {},
   "outputs": [
    {
     "data": {
      "text/html": [
       "<div>\n",
       "<style scoped>\n",
       "    .dataframe tbody tr th:only-of-type {\n",
       "        vertical-align: middle;\n",
       "    }\n",
       "\n",
       "    .dataframe tbody tr th {\n",
       "        vertical-align: top;\n",
       "    }\n",
       "\n",
       "    .dataframe thead th {\n",
       "        text-align: right;\n",
       "    }\n",
       "</style>\n",
       "<table border=\"1\" class=\"dataframe\">\n",
       "  <thead>\n",
       "    <tr style=\"text-align: right;\">\n",
       "      <th></th>\n",
       "      <th>Campus</th>\n",
       "      <th>1617MeetsRate</th>\n",
       "      <th>1718MeetsRate</th>\n",
       "      <th>1819MeetsRate</th>\n",
       "    </tr>\n",
       "  </thead>\n",
       "  <tbody>\n",
       "    <tr>\n",
       "      <td>0</td>\n",
       "      <td>'001902001</td>\n",
       "      <td>61</td>\n",
       "      <td>58</td>\n",
       "      <td>67</td>\n",
       "    </tr>\n",
       "    <tr>\n",
       "      <td>1</td>\n",
       "      <td>'001902041</td>\n",
       "      <td>45</td>\n",
       "      <td>44</td>\n",
       "      <td>57</td>\n",
       "    </tr>\n",
       "    <tr>\n",
       "      <td>2</td>\n",
       "      <td>'001902103</td>\n",
       "      <td>48</td>\n",
       "      <td>55</td>\n",
       "      <td>62</td>\n",
       "    </tr>\n",
       "    <tr>\n",
       "      <td>3</td>\n",
       "      <td>'001903001</td>\n",
       "      <td>52</td>\n",
       "      <td>57</td>\n",
       "      <td>63</td>\n",
       "    </tr>\n",
       "    <tr>\n",
       "      <td>4</td>\n",
       "      <td>'001903041</td>\n",
       "      <td>42</td>\n",
       "      <td>47</td>\n",
       "      <td>51</td>\n",
       "    </tr>\n",
       "  </tbody>\n",
       "</table>\n",
       "</div>"
      ],
      "text/plain": [
       "       Campus 1617MeetsRate 1718MeetsRate 1819MeetsRate\n",
       "0  '001902001            61            58            67\n",
       "1  '001902041            45            44            57\n",
       "2  '001902103            48            55            62\n",
       "3  '001903001            52            57            63\n",
       "4  '001903041            42            47            51"
      ]
     },
     "execution_count": 30,
     "metadata": {},
     "output_type": "execute_result"
    }
   ],
   "source": [
    "#For each of the academic tables, extract the test data and the campus number for unique join key\n",
    "TX1617Academic = TX1617Aca[['Campus Number', \n",
    "                            'Campus 2017 STAAR Meets Grade Level: Rate of students meeting Grade Level Standard requirement for Two or More Subjects - All Rate']]\n",
    "\n",
    "TX1718Academic = TX1718Aca[['Campus Number', \n",
    "                            'Campus 2018 Domain 1A: Meets Grade Level STD, Summed Grades 3-12, All Students All Tests Rate']]\n",
    "\n",
    "TX1819Academic = TX1819Aca[['Campus Number',\n",
    "                            'Campus 2019 Domain 1A: Meets Grade Level STD, Summed Grades 3-12, All Students All Tests Rate']]\n",
    "\n",
    "#Generate the Texas academic table, joining on the Campus number (unique id). The right join retains the most recent data\n",
    "TXAcademic = pd.merge(TX1617Academic, TX1718Academic, how='right', on='Campus Number')\n",
    "TXAcademic = pd.merge(TXAcademic, TX1819Academic, how='right', on='Campus Number')\n",
    "\n",
    "TXAcademic = TXAcademic.rename(columns={'Campus Number': 'Campus', \n",
    "                                        'Campus 2017 STAAR Meets Grade Level: Rate of students meeting Grade Level Standard requirement for Two or More Subjects - All Rate': '1617MeetsRate',\n",
    "                                        'Campus 2018 Domain 1A: Meets Grade Level STD, Summed Grades 3-12, All Students All Tests Rate': '1718MeetsRate',\n",
    "                                        'Campus 2019 Domain 1A: Meets Grade Level STD, Summed Grades 3-12, All Students All Tests Rate': '1819MeetsRate'})\n",
    "\n",
    "TXAcademic.head()"
   ]
  },
  {
   "cell_type": "code",
   "execution_count": 31,
   "metadata": {},
   "outputs": [
    {
     "name": "stdout",
     "output_type": "stream",
     "text": [
      "8194\n",
      "7850\n"
     ]
    },
    {
     "data": {
      "text/html": [
       "<div>\n",
       "<style scoped>\n",
       "    .dataframe tbody tr th:only-of-type {\n",
       "        vertical-align: middle;\n",
       "    }\n",
       "\n",
       "    .dataframe tbody tr th {\n",
       "        vertical-align: top;\n",
       "    }\n",
       "\n",
       "    .dataframe thead th {\n",
       "        text-align: right;\n",
       "    }\n",
       "</style>\n",
       "<table border=\"1\" class=\"dataframe\">\n",
       "  <thead>\n",
       "    <tr style=\"text-align: right;\">\n",
       "      <th></th>\n",
       "      <th>Campus</th>\n",
       "      <th>1617Enrlmnt</th>\n",
       "      <th>1718Enrlmnt</th>\n",
       "      <th>1819Enrlmnt</th>\n",
       "      <th>1617MeetsRate</th>\n",
       "      <th>1718MeetsRate</th>\n",
       "      <th>1819MeetsRate</th>\n",
       "    </tr>\n",
       "  </thead>\n",
       "  <tbody>\n",
       "    <tr>\n",
       "      <td>0</td>\n",
       "      <td>'001902001</td>\n",
       "      <td>173.0</td>\n",
       "      <td>168.0</td>\n",
       "      <td>179</td>\n",
       "      <td>61</td>\n",
       "      <td>58</td>\n",
       "      <td>67</td>\n",
       "    </tr>\n",
       "    <tr>\n",
       "      <td>1</td>\n",
       "      <td>'001902041</td>\n",
       "      <td>136.0</td>\n",
       "      <td>146.0</td>\n",
       "      <td>119</td>\n",
       "      <td>45</td>\n",
       "      <td>44</td>\n",
       "      <td>57</td>\n",
       "    </tr>\n",
       "  </tbody>\n",
       "</table>\n",
       "</div>"
      ],
      "text/plain": [
       "       Campus  1617Enrlmnt  1718Enrlmnt  1819Enrlmnt 1617MeetsRate  \\\n",
       "0  '001902001        173.0        168.0          179            61   \n",
       "1  '001902041        136.0        146.0          119            45   \n",
       "\n",
       "  1718MeetsRate 1819MeetsRate  \n",
       "0            58            67  \n",
       "1            44            57  "
      ]
     },
     "execution_count": 31,
     "metadata": {},
     "output_type": "execute_result"
    }
   ],
   "source": [
    "#Generate a table from the Enrollment and Academic performance\n",
    "TXAandE = pd.merge(TXEnrollment, TXAcademic, how='inner', on='Campus')\n",
    "print(len(TXAandE))\n",
    "\n",
    "#Drop about 4% of data to remove N/As\n",
    "TXAandE = TXAandE.dropna()\n",
    "print(len(TXAandE))\n",
    "\n",
    "TXAandE.head(2)"
   ]
  },
  {
   "cell_type": "code",
   "execution_count": 32,
   "metadata": {},
   "outputs": [
    {
     "name": "stdout",
     "output_type": "stream",
     "text": [
      "<class 'pandas.core.frame.DataFrame'>\n",
      "Int64Index: 7850 entries, 0 to 7883\n",
      "Data columns (total 7 columns):\n",
      "Campus           7850 non-null object\n",
      "1617Enrlmnt      7850 non-null float64\n",
      "1718Enrlmnt      7850 non-null float64\n",
      "1819Enrlmnt      7850 non-null int64\n",
      "1617MeetsRate    7711 non-null float64\n",
      "1718MeetsRate    7752 non-null float64\n",
      "1819MeetsRate    7742 non-null float64\n",
      "dtypes: float64(5), int64(1), object(1)\n",
      "memory usage: 490.6+ KB\n"
     ]
    }
   ],
   "source": [
    "#instead of blanks or \"*\" characters, there were '.'s to convert to Nan values\n",
    "TXAandE = TXAandE.replace('.', np.NaN)\n",
    "\n",
    "#Use the to_numeric function to change the datatypes in the table\n",
    "TXAandE[['1617Enrlmnt', '1718Enrlmnt', \n",
    "         '1819Enrlmnt', '1617MeetsRate',\n",
    "         '1718MeetsRate', '1819MeetsRate']] = TXAandE[['1617Enrlmnt', '1718Enrlmnt',\n",
    "                                                       '1819Enrlmnt', '1617MeetsRate',\n",
    "                                                       '1718MeetsRate', '1819MeetsRate']].apply(pd.to_numeric)\n",
    "\n",
    "TXAandE.info()"
   ]
  },
  {
   "cell_type": "code",
   "execution_count": 33,
   "metadata": {},
   "outputs": [
    {
     "data": {
      "text/html": [
       "<div>\n",
       "<style scoped>\n",
       "    .dataframe tbody tr th:only-of-type {\n",
       "        vertical-align: middle;\n",
       "    }\n",
       "\n",
       "    .dataframe tbody tr th {\n",
       "        vertical-align: top;\n",
       "    }\n",
       "\n",
       "    .dataframe thead th {\n",
       "        text-align: right;\n",
       "    }\n",
       "</style>\n",
       "<table border=\"1\" class=\"dataframe\">\n",
       "  <thead>\n",
       "    <tr style=\"text-align: right;\">\n",
       "      <th></th>\n",
       "      <th>1617Enrlmnt</th>\n",
       "      <th>1718Enrlmnt</th>\n",
       "      <th>1819Enrlmnt</th>\n",
       "      <th>1617MeetsRate</th>\n",
       "      <th>1718MeetsRate</th>\n",
       "      <th>1819MeetsRate</th>\n",
       "      <th>GR1718</th>\n",
       "      <th>GR1819</th>\n",
       "      <th>AC1718</th>\n",
       "      <th>AC1819</th>\n",
       "    </tr>\n",
       "  </thead>\n",
       "  <tbody>\n",
       "    <tr>\n",
       "      <td>count</td>\n",
       "      <td>7500.000000</td>\n",
       "      <td>7500.000000</td>\n",
       "      <td>7500.000000</td>\n",
       "      <td>7500.000000</td>\n",
       "      <td>7500.000000</td>\n",
       "      <td>7500.000000</td>\n",
       "      <td>7500.000000</td>\n",
       "      <td>7500.000000</td>\n",
       "      <td>7500.000000</td>\n",
       "      <td>7500.000000</td>\n",
       "    </tr>\n",
       "    <tr>\n",
       "      <td>mean</td>\n",
       "      <td>677.637600</td>\n",
       "      <td>679.021067</td>\n",
       "      <td>675.186133</td>\n",
       "      <td>43.944267</td>\n",
       "      <td>47.000267</td>\n",
       "      <td>48.105333</td>\n",
       "      <td>0.013326</td>\n",
       "      <td>-0.000578</td>\n",
       "      <td>3.056000</td>\n",
       "      <td>1.105067</td>\n",
       "    </tr>\n",
       "    <tr>\n",
       "      <td>std</td>\n",
       "      <td>529.807649</td>\n",
       "      <td>531.498879</td>\n",
       "      <td>530.254087</td>\n",
       "      <td>17.017811</td>\n",
       "      <td>15.528920</td>\n",
       "      <td>15.367927</td>\n",
       "      <td>0.168980</td>\n",
       "      <td>0.122688</td>\n",
       "      <td>6.890805</td>\n",
       "      <td>5.168416</td>\n",
       "    </tr>\n",
       "    <tr>\n",
       "      <td>min</td>\n",
       "      <td>16.000000</td>\n",
       "      <td>12.000000</td>\n",
       "      <td>12.000000</td>\n",
       "      <td>5.000000</td>\n",
       "      <td>9.000000</td>\n",
       "      <td>9.000000</td>\n",
       "      <td>-0.781200</td>\n",
       "      <td>-0.685500</td>\n",
       "      <td>-35.000000</td>\n",
       "      <td>-37.000000</td>\n",
       "    </tr>\n",
       "    <tr>\n",
       "      <td>25%</td>\n",
       "      <td>381.000000</td>\n",
       "      <td>385.000000</td>\n",
       "      <td>381.000000</td>\n",
       "      <td>31.000000</td>\n",
       "      <td>36.000000</td>\n",
       "      <td>37.000000</td>\n",
       "      <td>-0.042700</td>\n",
       "      <td>-0.045900</td>\n",
       "      <td>-1.000000</td>\n",
       "      <td>-2.000000</td>\n",
       "    </tr>\n",
       "    <tr>\n",
       "      <td>50%</td>\n",
       "      <td>575.500000</td>\n",
       "      <td>573.000000</td>\n",
       "      <td>564.000000</td>\n",
       "      <td>42.000000</td>\n",
       "      <td>45.000000</td>\n",
       "      <td>46.000000</td>\n",
       "      <td>-0.001700</td>\n",
       "      <td>-0.005200</td>\n",
       "      <td>3.000000</td>\n",
       "      <td>1.000000</td>\n",
       "    </tr>\n",
       "    <tr>\n",
       "      <td>75%</td>\n",
       "      <td>787.000000</td>\n",
       "      <td>788.000000</td>\n",
       "      <td>779.000000</td>\n",
       "      <td>54.000000</td>\n",
       "      <td>57.000000</td>\n",
       "      <td>58.000000</td>\n",
       "      <td>0.039525</td>\n",
       "      <td>0.035300</td>\n",
       "      <td>8.000000</td>\n",
       "      <td>4.000000</td>\n",
       "    </tr>\n",
       "    <tr>\n",
       "      <td>max</td>\n",
       "      <td>5931.000000</td>\n",
       "      <td>5675.000000</td>\n",
       "      <td>5680.000000</td>\n",
       "      <td>100.000000</td>\n",
       "      <td>100.000000</td>\n",
       "      <td>100.000000</td>\n",
       "      <td>5.790700</td>\n",
       "      <td>2.666700</td>\n",
       "      <td>42.000000</td>\n",
       "      <td>28.000000</td>\n",
       "    </tr>\n",
       "  </tbody>\n",
       "</table>\n",
       "</div>"
      ],
      "text/plain": [
       "       1617Enrlmnt  1718Enrlmnt  1819Enrlmnt  1617MeetsRate  1718MeetsRate  \\\n",
       "count  7500.000000  7500.000000  7500.000000    7500.000000    7500.000000   \n",
       "mean    677.637600   679.021067   675.186133      43.944267      47.000267   \n",
       "std     529.807649   531.498879   530.254087      17.017811      15.528920   \n",
       "min      16.000000    12.000000    12.000000       5.000000       9.000000   \n",
       "25%     381.000000   385.000000   381.000000      31.000000      36.000000   \n",
       "50%     575.500000   573.000000   564.000000      42.000000      45.000000   \n",
       "75%     787.000000   788.000000   779.000000      54.000000      57.000000   \n",
       "max    5931.000000  5675.000000  5680.000000     100.000000     100.000000   \n",
       "\n",
       "       1819MeetsRate       GR1718       GR1819       AC1718       AC1819  \n",
       "count    7500.000000  7500.000000  7500.000000  7500.000000  7500.000000  \n",
       "mean       48.105333     0.013326    -0.000578     3.056000     1.105067  \n",
       "std        15.367927     0.168980     0.122688     6.890805     5.168416  \n",
       "min         9.000000    -0.781200    -0.685500   -35.000000   -37.000000  \n",
       "25%        37.000000    -0.042700    -0.045900    -1.000000    -2.000000  \n",
       "50%        46.000000    -0.001700    -0.005200     3.000000     1.000000  \n",
       "75%        58.000000     0.039525     0.035300     8.000000     4.000000  \n",
       "max       100.000000     5.790700     2.666700    42.000000    28.000000  "
      ]
     },
     "execution_count": 33,
     "metadata": {},
     "output_type": "execute_result"
    }
   ],
   "source": [
    "#Drop the columns where there was no growth rate for 1718 & 1819 Meets and Masters Rates\n",
    "TXAandE = TXAandE[TXAandE['1617MeetsRate'] != -1]\n",
    "TXAandE = TXAandE[TXAandE['1718MeetsRate'] != -1]\n",
    "TXAandE = TXAandE[TXAandE['1819MeetsRate'] != -1]\n",
    "\n",
    "#Generate a growth rate for schools' YOY enrollment\n",
    "TXAandE['GR1718'] = round((TXAandE['1718Enrlmnt'] - TXAandE['1617Enrlmnt']) / TXAandE['1617Enrlmnt'], 4)\n",
    "TXAandE['GR1819'] = round((TXAandE['1819Enrlmnt'] - TXAandE['1718Enrlmnt']) / TXAandE['1718Enrlmnt'], 4)\n",
    "\n",
    "#Generate an academic performance rate change to measure proficiency change\n",
    "TXAandE['AC1718'] = round(TXAandE['1718MeetsRate'] - TXAandE['1617MeetsRate'], 4)\n",
    "TXAandE['AC1819'] = round(TXAandE['1819MeetsRate'] - TXAandE['1718MeetsRate'], 4)\n",
    "\n",
    "#Drop null values in each of the AC columns\n",
    "TXAandE = TXAandE.dropna(subset=['AC1718'])\n",
    "TXAandE = TXAandE.dropna(subset=['AC1819'])"
   ]
  },
  {
   "cell_type": "code",
   "execution_count": 34,
   "metadata": {},
   "outputs": [
    {
     "data": {
      "text/plain": [
       "{'GR1718': (-0.494, 0.52),\n",
       " 'GR1819': (-0.369, 0.367),\n",
       " 'AC1718': (-17.615, 23.727),\n",
       " 'AC1819': (-14.399, 16.609)}"
      ]
     },
     "execution_count": 34,
     "metadata": {},
     "output_type": "execute_result"
    }
   ],
   "source": [
    "#Find outliers by calculating +/- 3 standard deviations from the mean\n",
    "\n",
    "a = {}\n",
    "for i in ['GR1718', 'GR1819', 'AC1718', 'AC1819']:\n",
    "    a[i] = (round(np.mean(TXAandE[i])-(3*(np.std(TXAandE[i]))),3), round(np.mean(TXAandE[i])+(3*(np.std(TXAandE[i]))),3))\n",
    "    \n",
    "a"
   ]
  },
  {
   "cell_type": "code",
   "execution_count": 35,
   "metadata": {},
   "outputs": [
    {
     "data": {
      "text/html": [
       "<div>\n",
       "<style scoped>\n",
       "    .dataframe tbody tr th:only-of-type {\n",
       "        vertical-align: middle;\n",
       "    }\n",
       "\n",
       "    .dataframe tbody tr th {\n",
       "        vertical-align: top;\n",
       "    }\n",
       "\n",
       "    .dataframe thead th {\n",
       "        text-align: right;\n",
       "    }\n",
       "</style>\n",
       "<table border=\"1\" class=\"dataframe\">\n",
       "  <thead>\n",
       "    <tr style=\"text-align: right;\">\n",
       "      <th></th>\n",
       "      <th>1617Enrlmnt</th>\n",
       "      <th>1718Enrlmnt</th>\n",
       "      <th>1819Enrlmnt</th>\n",
       "      <th>1617MeetsRate</th>\n",
       "      <th>1718MeetsRate</th>\n",
       "      <th>1819MeetsRate</th>\n",
       "      <th>GR1718</th>\n",
       "      <th>GR1819</th>\n",
       "      <th>AC1718</th>\n",
       "      <th>AC1819</th>\n",
       "    </tr>\n",
       "  </thead>\n",
       "  <tbody>\n",
       "    <tr>\n",
       "      <td>count</td>\n",
       "      <td>7181.000000</td>\n",
       "      <td>7181.000000</td>\n",
       "      <td>7181.000000</td>\n",
       "      <td>7181.000000</td>\n",
       "      <td>7181.000000</td>\n",
       "      <td>7181.000000</td>\n",
       "      <td>7181.000000</td>\n",
       "      <td>7181.000000</td>\n",
       "      <td>7181.000000</td>\n",
       "      <td>7181.000000</td>\n",
       "    </tr>\n",
       "    <tr>\n",
       "      <td>mean</td>\n",
       "      <td>687.579446</td>\n",
       "      <td>686.514692</td>\n",
       "      <td>681.780114</td>\n",
       "      <td>44.039410</td>\n",
       "      <td>47.140231</td>\n",
       "      <td>48.221418</td>\n",
       "      <td>0.001027</td>\n",
       "      <td>-0.005860</td>\n",
       "      <td>3.100822</td>\n",
       "      <td>1.081186</td>\n",
       "    </tr>\n",
       "    <tr>\n",
       "      <td>std</td>\n",
       "      <td>529.023080</td>\n",
       "      <td>531.828649</td>\n",
       "      <td>530.195864</td>\n",
       "      <td>16.985287</td>\n",
       "      <td>15.461903</td>\n",
       "      <td>15.308289</td>\n",
       "      <td>0.088276</td>\n",
       "      <td>0.077084</td>\n",
       "      <td>6.483222</td>\n",
       "      <td>4.742942</td>\n",
       "    </tr>\n",
       "    <tr>\n",
       "      <td>min</td>\n",
       "      <td>16.000000</td>\n",
       "      <td>17.000000</td>\n",
       "      <td>21.000000</td>\n",
       "      <td>6.000000</td>\n",
       "      <td>9.000000</td>\n",
       "      <td>9.000000</td>\n",
       "      <td>-0.485600</td>\n",
       "      <td>-0.368400</td>\n",
       "      <td>-17.000000</td>\n",
       "      <td>-14.000000</td>\n",
       "    </tr>\n",
       "    <tr>\n",
       "      <td>25%</td>\n",
       "      <td>397.000000</td>\n",
       "      <td>396.000000</td>\n",
       "      <td>391.000000</td>\n",
       "      <td>31.000000</td>\n",
       "      <td>36.000000</td>\n",
       "      <td>37.000000</td>\n",
       "      <td>-0.042500</td>\n",
       "      <td>-0.045400</td>\n",
       "      <td>-1.000000</td>\n",
       "      <td>-2.000000</td>\n",
       "    </tr>\n",
       "    <tr>\n",
       "      <td>50%</td>\n",
       "      <td>583.000000</td>\n",
       "      <td>579.000000</td>\n",
       "      <td>570.000000</td>\n",
       "      <td>42.000000</td>\n",
       "      <td>45.000000</td>\n",
       "      <td>46.000000</td>\n",
       "      <td>-0.002500</td>\n",
       "      <td>-0.005700</td>\n",
       "      <td>3.000000</td>\n",
       "      <td>1.000000</td>\n",
       "    </tr>\n",
       "    <tr>\n",
       "      <td>75%</td>\n",
       "      <td>792.000000</td>\n",
       "      <td>792.000000</td>\n",
       "      <td>783.000000</td>\n",
       "      <td>54.000000</td>\n",
       "      <td>57.000000</td>\n",
       "      <td>58.000000</td>\n",
       "      <td>0.037500</td>\n",
       "      <td>0.033200</td>\n",
       "      <td>7.000000</td>\n",
       "      <td>4.000000</td>\n",
       "    </tr>\n",
       "    <tr>\n",
       "      <td>max</td>\n",
       "      <td>5931.000000</td>\n",
       "      <td>5675.000000</td>\n",
       "      <td>5680.000000</td>\n",
       "      <td>100.000000</td>\n",
       "      <td>100.000000</td>\n",
       "      <td>100.000000</td>\n",
       "      <td>0.513200</td>\n",
       "      <td>0.364500</td>\n",
       "      <td>23.000000</td>\n",
       "      <td>16.000000</td>\n",
       "    </tr>\n",
       "  </tbody>\n",
       "</table>\n",
       "</div>"
      ],
      "text/plain": [
       "       1617Enrlmnt  1718Enrlmnt  1819Enrlmnt  1617MeetsRate  1718MeetsRate  \\\n",
       "count  7181.000000  7181.000000  7181.000000    7181.000000    7181.000000   \n",
       "mean    687.579446   686.514692   681.780114      44.039410      47.140231   \n",
       "std     529.023080   531.828649   530.195864      16.985287      15.461903   \n",
       "min      16.000000    17.000000    21.000000       6.000000       9.000000   \n",
       "25%     397.000000   396.000000   391.000000      31.000000      36.000000   \n",
       "50%     583.000000   579.000000   570.000000      42.000000      45.000000   \n",
       "75%     792.000000   792.000000   783.000000      54.000000      57.000000   \n",
       "max    5931.000000  5675.000000  5680.000000     100.000000     100.000000   \n",
       "\n",
       "       1819MeetsRate       GR1718       GR1819       AC1718       AC1819  \n",
       "count    7181.000000  7181.000000  7181.000000  7181.000000  7181.000000  \n",
       "mean       48.221418     0.001027    -0.005860     3.100822     1.081186  \n",
       "std        15.308289     0.088276     0.077084     6.483222     4.742942  \n",
       "min         9.000000    -0.485600    -0.368400   -17.000000   -14.000000  \n",
       "25%        37.000000    -0.042500    -0.045400    -1.000000    -2.000000  \n",
       "50%        46.000000    -0.002500    -0.005700     3.000000     1.000000  \n",
       "75%        58.000000     0.037500     0.033200     7.000000     4.000000  \n",
       "max       100.000000     0.513200     0.364500    23.000000    16.000000  "
      ]
     },
     "execution_count": 35,
     "metadata": {},
     "output_type": "execute_result"
    }
   ],
   "source": [
    "#Here I am removing outliers that are +/- 3 Stds away from mean.\n",
    "TXAandE = TXAandE[(TXAandE['GR1718'] >= -0.494) & (TXAandE['GR1718'] <= 0.52)]\n",
    "TXAandE = TXAandE[(TXAandE['GR1819'] >= -0.369) & (TXAandE['GR1819'] <= 0.367)]\n",
    "TXAandE = TXAandE[(TXAandE['AC1718'] >= -17.615) & (TXAandE['AC1718'] <= 23.727)]\n",
    "TXAandE = TXAandE[(TXAandE['AC1819'] >= -14.399) & (TXAandE['AC1819'] <= 16.609)]\n",
    "\n",
    "TXAandE.describe()"
   ]
  },
  {
   "cell_type": "markdown",
   "metadata": {},
   "source": [
    "### Texas Analysis"
   ]
  },
  {
   "cell_type": "code",
   "execution_count": 36,
   "metadata": {},
   "outputs": [
    {
     "name": "stdout",
     "output_type": "stream",
     "text": [
      "2496\n",
      "2741\n",
      "LeveneResult(statistic=0.37859278397554413, pvalue=0.5383840644443216)\n"
     ]
    }
   ],
   "source": [
    "#Since the Growth Rate is essentially 0, I choose to separate out the academic performance \n",
    "#for schools +/- 2% growth\n",
    "\n",
    "# Test 1 is positive\n",
    "# Test 2 is negative growth rate\n",
    "\n",
    "Test1 = TXAandE[TXAandE['GR1718'] > 0.02]\n",
    "Test2 = TXAandE[TXAandE['GR1718'] <= -0.02]\n",
    "\n",
    "print(len(Test1))\n",
    "print(len(Test2))\n",
    "\n",
    "print(levene(Test1['AC1718'], Test2['AC1718']))"
   ]
  },
  {
   "cell_type": "code",
   "execution_count": 37,
   "metadata": {},
   "outputs": [
    {
     "name": "stdout",
     "output_type": "stream",
     "text": [
      "Positve GR (>2%) vs Negative GR (<-2%)\n",
      "2.474 4.034 Ttest_indResult(statistic=-8.847636925311917, pvalue=1.2032092814043822e-18)\n"
     ]
    }
   ],
   "source": [
    "print('Positve GR (>2%) vs Negative GR (<-2%)')\n",
    "print(round(np.mean(Test1['AC1718']),3), round(np.mean(Test2['AC1718']),3), ttest_ind(Test1['AC1718'], Test2['AC1718']))"
   ]
  },
  {
   "cell_type": "code",
   "execution_count": 38,
   "metadata": {},
   "outputs": [
    {
     "name": "stderr",
     "output_type": "stream",
     "text": [
      "No handles with labels found to put in legend.\n"
     ]
    },
    {
     "data": {
      "image/png": "[encoded data removed]",
      "text/plain": [
       "<Figure size 864x576 with 1 Axes>"
      ]
     },
     "metadata": {},
     "output_type": "display_data"
    }
   ],
   "source": [
    "#Generate a data frame to mimic the above test\n",
    "TXViz = TXAandE[(TXAandE['GR1718'] > 0.02) | (TXAandE['GR1718'] <= -0.02)]\n",
    "\n",
    "#Designate the data by growth rate\n",
    "TXViz['hue'] = ['School w/ growth > 2%' if i > 0.02 \n",
    "                else 'Schools w/ negative growth < -2%' for i in TXViz['GR1718']]\n",
    "\n",
    "#Generate a boxplot for the data\n",
    "plt.figure(figsize=(12,8))\n",
    "sns.set_style('darkgrid')\n",
    "sns.set(font_scale=1.4)\n",
    "sns.barplot(x='hue', y='AC1718', data=TXViz, ci=False)\n",
    "plt.title('Avg YOY percentage point change in students at or above expectations (16-17 -> 17-18)', fontsize=16)\n",
    "plt.ylabel('Percentage Points change', fontsize=14)\n",
    "plt.xlabel('School size growth rate', fontsize=14)\n",
    "plt.legend(fontsize=12);"
   ]
  },
  {
   "cell_type": "code",
   "execution_count": 39,
   "metadata": {},
   "outputs": [
    {
     "name": "stdout",
     "output_type": "stream",
     "text": [
      "2298\n",
      "2897\n",
      "LeveneResult(statistic=5.98381870160714, pvalue=0.014470658778957295)\n"
     ]
    }
   ],
   "source": [
    "#Again, mean 1819 Growth Rate was essentially 0, so I generate some distance with +/- 2%\n",
    "\n",
    "# Test 1 is positive\n",
    "# Test 2 is negative growth rate\n",
    "\n",
    "Test1 = TXAandE[TXAandE['GR1819'] > 0.02]\n",
    "Test2 = TXAandE[TXAandE['GR1819'] <= -0.02]\n",
    "\n",
    "print(len(Test1))\n",
    "print(len(Test2))\n",
    "\n",
    "#Calculate the Levene test for equal variance\n",
    "print(levene(Test1['AC1819'], Test2['AC1819']))"
   ]
  },
  {
   "cell_type": "code",
   "execution_count": 40,
   "metadata": {},
   "outputs": [
    {
     "name": "stdout",
     "output_type": "stream",
     "text": [
      "Positve GR vs Negative GR\n",
      "0.837 1.303 Ttest_indResult(statistic=-3.4812019691882337, pvalue=0.0005034321622791004)\n"
     ]
    }
   ],
   "source": [
    "#Levene proved unequal variance so we substitute Welch's test\n",
    "print('Positve GR vs Negative GR')\n",
    "print(round(np.mean(Test1['AC1819']),3), round(np.mean(Test2['AC1819']),3), \n",
    "      ttest_ind(Test1['AC1819'], Test2['AC1819'], equal_var=False))"
   ]
  },
  {
   "cell_type": "code",
   "execution_count": 46,
   "metadata": {},
   "outputs": [
    {
     "name": "stderr",
     "output_type": "stream",
     "text": [
      "No handles with labels found to put in legend.\n"
     ]
    },
    {
     "data": {
      "image/png": "[encoded data removed]",
      "text/plain": [
       "<Figure size 864x576 with 1 Axes>"
      ]
     },
     "metadata": {},
     "output_type": "display_data"
    }
   ],
   "source": [
    "#Generate a data frame to match the above comparison test\n",
    "TXViz1 = TXAandE[(TXAandE['GR1819'] > 0.02) | (TXAandE['GR1819'] <= -0.02)]\n",
    "\n",
    "#Designate the data by growth rate\n",
    "TXViz1['hue'] = ['School w/ growth > 2%' if i > 0.02 \n",
    "                else 'Schools w/ negative growth < -2%' for i in TXViz1['GR1819']]\n",
    "\n",
    "#Generate a boxplot for the data\n",
    "plt.figure(figsize=(12,8))\n",
    "order = ['Schools w/ negative growth < -2%', 'School w/ growth > 2%']\n",
    "sns.set_style('darkgrid')\n",
    "sns.set(font_scale=1.4)\n",
    "sns.barplot(x='hue', y='AC1819', data=TXViz1, order=order, ci=False)\n",
    "plt.title('Avg YOY percentage point change in students at or above expectations (17-18 -> 18-19)', fontsize=16)\n",
    "plt.ylabel('Percentage Points change', fontsize=14)\n",
    "plt.xlabel('School size growth rate', fontsize=14)\n",
    "plt.ylim(0,4.25)\n",
    "plt.legend(fontsize=12);"
   ]
  },
  {
   "cell_type": "code",
   "execution_count": null,
   "metadata": {},
   "outputs": [],
   "source": []
  }
 ],
 "metadata": {
  "kernelspec": {
   "display_name": "Python [conda env:learn-env] *",
   "language": "python",
   "name": "conda-env-learn-env-py"
  },
  "language_info": {
   "codemirror_mode": {
    "name": "ipython",
    "version": 3
   },
   "file_extension": ".py",
   "mimetype": "text/x-python",
   "name": "python",
   "nbconvert_exporter": "python",
   "pygments_lexer": "ipython3",
   "version": "3.6.9"
  }
 },
 "nbformat": 4,
 "nbformat_minor": 2
}
